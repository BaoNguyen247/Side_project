{
  "nbformat": 4,
  "nbformat_minor": 0,
  "metadata": {
    "colab": {
      "provenance": [],
      "authorship_tag": "ABX9TyOo1vWfa3FbCCZ9V+EzNn3/",
      "include_colab_link": true
    },
    "kernelspec": {
      "name": "python3",
      "display_name": "Python 3"
    },
    "language_info": {
      "name": "python"
    }
  },
  "cells": [
    {
      "cell_type": "markdown",
      "metadata": {
        "id": "view-in-github",
        "colab_type": "text"
      },
      "source": [
        "<a href=\"https://colab.research.google.com/github/BaoNguyen247/Side_project/blob/main/BirdStatistic.ipynb\" target=\"_parent\"><img src=\"https://colab.research.google.com/assets/colab-badge.svg\" alt=\"Open In Colab\"/></a>"
      ]
    },
    {
      "cell_type": "markdown",
      "source": [
        "# About Dataset\n",
        "\n",
        "This dataset contains 10,000 synthetic records simulating the migratory behavior of various bird species across global regions. Each entry represents a single bird tagged with a tracking device and includes detailed information such as flight distance, speed, altitude, weather conditions, tagging information, and migration outcomes.\n",
        "\n",
        "The data was entirely synthetically generated using randomized yet realistic values based on known ranges from ornithological studies. It is ideal for practicing data analysis and visualization techniques without privacy concerns or real-world data access restrictions. Because it’s artificial, the dataset can be freely used in education, portfolio projects, demo dashboards, machine learning pipelines, or business intelligence training.\n",
        "\n",
        "With over 40 columns, this dataset supports a wide array of analysis types. Analysts can explore questions like “Do certain species migrate in larger flocks?”, “How does weather impact nesting success?”, or “What conditions lead to migration interruptions?”. Users can also perform geospatial mapping of start and end locations, cluster birds by behavior, or build time series models based on migration months and environmental factors.\n",
        "\n",
        "For data visualization, tools like Power BI, Python (Matplotlib/Seaborn/Plotly), or Excel can be used to create insightful dashboards and interactive charts."
      ],
      "metadata": {
        "id": "9tyTZTHBzr1z"
      }
    },
    {
      "cell_type": "code",
      "source": [
        "from google.colab import drive\n",
        "drive.mount('/content/drive')"
      ],
      "metadata": {
        "id": "703NfD7w0uWA"
      },
      "execution_count": null,
      "outputs": []
    },
    {
      "cell_type": "code",
      "execution_count": null,
      "metadata": {
        "id": "ycJh9zcay1gE"
      },
      "outputs": [],
      "source": [
        "import pandas as pd\n",
        "import numpy as np\n",
        "import matplotlib.pyplot as plt\n",
        "import seaborn as sns\n",
        "import os\n",
        "from sklearn.linear_model import LinearRegression\n",
        "from sklearn.metrics import r2_score"
      ]
    },
    {
      "cell_type": "markdown",
      "source": [
        "Tiếp theo chúng ta đọc file csv"
      ],
      "metadata": {
        "id": "_IUjVcle34lG"
      }
    },
    {
      "cell_type": "code",
      "source": [
        "df = pd.read_csv('/content/sample_data/bird_migration_data.csv')\n",
        "#Hiển thị dữ liệu\n",
        "print(df.head())"
      ],
      "metadata": {
        "id": "FNAxdpkTy-KC"
      },
      "execution_count": null,
      "outputs": []
    },
    {
      "cell_type": "markdown",
      "source": [],
      "metadata": {
        "id": "EiJD9yjpztwH"
      }
    },
    {
      "cell_type": "markdown",
      "source": [
        "Bước đầu tiên chúng ta hãy cùng xem xét lại data, check xem data có sai hay không?"
      ],
      "metadata": {
        "id": "5YyuXF1M2VtE"
      }
    },
    {
      "cell_type": "code",
      "source": [
        "# Kiểm tra giá trị thiếu trong Interrupted_Reason\n",
        "missing_reason = df[df['Interrupted_Reason'].isnull()]\n",
        "print(\"Số lượng giá trị thiếu trong Interrupted_Reason:\", len(missing_reason))\n",
        "print(\"Phân bố Migration_Interrupted trong các giá trị thiếu:\")\n",
        "print(missing_reason['Migration_Interrupted'].value_counts())"
      ],
      "metadata": {
        "id": "meAKLhQ52ekW"
      },
      "execution_count": null,
      "outputs": []
    },
    {
      "cell_type": "markdown",
      "source": [
        "Ta thấy ở cột interrupted_Reason có 1981 giá trị bị thiếu, điều này nói lên rằng có những yếu tố làm gián đoạn quá trình di cư của loài chim không được đề cập ở đây, có thể là do không theo dõi sát sao trong quá trình di cư, tuy nhiên những dữ liệu của các cột còn lại rất sạch nên những dữ liệu bị thiếu sẽ không ảnh hưởng nhiều đến quá trình phân tích của chúng ta, bây giờ chúng ta hãy xem những mẫu dữ liệu này nói lên điều gì từ loài chim nhé."
      ],
      "metadata": {
        "id": "jZJ3ZAgn2-xA"
      }
    },
    {
      "cell_type": "code",
      "source": [
        "df['Interrupted_Reason'].fillna('None', inplace=True)"
      ],
      "metadata": {
        "id": "130JnRy02pYT"
      },
      "execution_count": null,
      "outputs": []
    },
    {
      "cell_type": "markdown",
      "source": [
        "# 1.Đầu tiên ta xem xét về vấn đề quãng thời gian chúng di cư và lộ trình của các loài chim"
      ],
      "metadata": {
        "id": "_z5DSaHi4UHb"
      }
    },
    {
      "cell_type": "code",
      "source": [
        "# Lọc các bản ghi có latitude/longitude hợp lệ\n",
        "df = df[\n",
        "    (df['Start_Latitude'].between(-90, 90)) &\n",
        "    (df['End_Latitude'].between(-90, 90)) &\n",
        "    (df['Start_Longitude'].between(-180, 180)) &\n",
        "    (df['End_Longitude'].between(-180, 180))\n",
        "]\n",
        "print(\"Số bản ghi sau khi lọc:\", len(df))"
      ],
      "metadata": {
        "id": "ojfMdAgpuNIF"
      },
      "execution_count": null,
      "outputs": []
    },
    {
      "cell_type": "code",
      "source": [
        "# Kiểm tra thêm giá trị bất thường như quãng đường bay, v.v,...\n",
        "print(\"Flight_Distance_km âm:\", (df['Flight_Distance_km'] < 0).sum())\n",
        "print(\"Flight_Duration_hours âm:\", (df['Flight_Duration_hours'] < 0).sum())\n",
        "print(\"Average_Speed_kmph âm:\", (df['Average_Speed_kmph'] < 0).sum())\n",
        "print(\"Min_Altitude_m > Max_Altitude_m:\", (df['Min_Altitude_m'] > df['Max_Altitude_m']).sum())"
      ],
      "metadata": {
        "id": "LadKAWaYudZH"
      },
      "execution_count": null,
      "outputs": []
    },
    {
      "cell_type": "code",
      "source": [
        "# Làm sạch dữ liệu\n",
        "df = df[\n",
        "    (df['Start_Latitude'].between(-90, 90)) &\n",
        "    (df['End_Latitude'].between(-90, 90)) &\n",
        "    (df['Start_Longitude'].between(-180, 180)) &\n",
        "    (df['End_Longitude'].between(-180, 180)) &\n",
        "    (df['Flight_Distance_km'] >= 0) &\n",
        "    (df['Flight_Duration_hours'] >= 0) &\n",
        "    (df['Average_Speed_kmph'] >= 0) &\n",
        "    (df['Min_Altitude_m'] <= df['Max_Altitude_m'])\n",
        "]\n",
        "print(\"Số bản ghi sau khi làm sạch:\", len(df))"
      ],
      "metadata": {
        "id": "4GNqTh8MutBf"
      },
      "execution_count": null,
      "outputs": []
    },
    {
      "cell_type": "code",
      "source": [
        "#Chúng ta thống kê xem hiện có bao nhiêu loài chim có trong danh sách\n",
        "new_df_unit = df['Species'].drop_duplicates()\n",
        "print(new_df_unit)"
      ],
      "metadata": {
        "id": "ehMDBG7B4jeb"
      },
      "execution_count": null,
      "outputs": []
    },
    {
      "cell_type": "markdown",
      "source": [
        "ta thấy có 7 chủng loài chim, tuy nhiên mỗi vùng và mỗi khu vực các loài chim này có những đặc điểm sống khác nhau, hãy xem xét về loài Warbler(chim chích)ở các khu vực trên thế giới"
      ],
      "metadata": {
        "id": "Yw-ce7dS757f"
      }
    },
    {
      "cell_type": "markdown",
      "source": [
        "Từ dữ liệu mẫu bạn cung cấp, có bản ghi với Start_Latitude = 87.861164 (hợp lệ) nhưng cũng có Start_Latitude = -169.378251 (không hợp lệ, vì latitude chỉ nằm trong [-90, 90]). Điều này cho thấy dữ liệu giả lập có thể chứa các giá trị sai, cần được làm sạch trước khi phân tích."
      ],
      "metadata": {
        "id": "tR923qC1uD7o"
      }
    },
    {
      "cell_type": "code",
      "source": [
        "warbler_df = df[df['Species'] == \"Warbler\"]\n",
        "print(warbler_df.head())"
      ],
      "metadata": {
        "id": "aBI5UxvP6mHP"
      },
      "execution_count": null,
      "outputs": []
    },
    {
      "cell_type": "markdown",
      "source": [
        "Hãy xem môi trường sống có ảnh hưởng như thế nào đến lý do di cư của chúng"
      ],
      "metadata": {
        "id": "uvLKeLDD__r8"
      }
    },
    {
      "cell_type": "code",
      "source": [
        "# Đếm số lần xuất hiện của từng lý do di cư trong mỗi môi trường sống\n",
        "data = warbler_df.groupby(\"Habitat\")[\"Migration_Reason\"].value_counts().unstack()"
      ],
      "metadata": {
        "id": "uEtZHkuy-YX5"
      },
      "execution_count": null,
      "outputs": []
    },
    {
      "cell_type": "code",
      "source": [
        "# Thiết lập vị trí các cột\n",
        "x = np.arange(len(data.index))  # Số lượng môi trường sống\n",
        "width = 0.2  # Độ rộng mỗi cột\n",
        "\n",
        "# Vẽ biểu đồ\n",
        "fig, ax = plt.subplots(figsize=(12, 6))\n",
        "\n",
        "for i, reason in enumerate(data.columns):\n",
        "    ax.bar(x + i * width, data[reason], width, label=reason)\n",
        "\n",
        "# Tùy chỉnh\n",
        "ax.set_xlabel(\"Môi trường sống\")\n",
        "ax.set_ylabel(\"Số lượng\")\n",
        "ax.set_title(\"Ảnh hưởng của môi trường sống đến lý do di cư của loài chim chích\")\n",
        "ax.set_xticks(x + width * (len(data.columns) / 2))\n",
        "ax.set_xticklabels(data.index, rotation=45)\n",
        "ax.legend(title=\"Lý do di cư\")\n",
        "\n",
        "# Hiển thị\n",
        "plt.show()\n"
      ],
      "metadata": {
        "id": "YLL76np5CJi3"
      },
      "execution_count": null,
      "outputs": []
    },
    {
      "cell_type": "markdown",
      "source": [
        "Ta thấy xu hướng di cư để né tránh thiên địch có tỉ lệ cao ở Coastal và Urban khả năn là do các loài thiên địch xu hướng hoạt động mạnh mẽ hơn vào mùa loài chim này di cư, nhóm ở Mountain và Wetland xu hướng di cư dể tìm thức ăn, chứng tỏ ở 2 khu vực này có hiện tượng thiếu thống thức ăn ở mức nhẹ vào mùa di cư\n",
        ", trong khi các khu vực còn lại có xu hướng cân bằng lí do di cư"
      ],
      "metadata": {
        "id": "NkDge2F8HLGx"
      }
    },
    {
      "cell_type": "code",
      "source": [
        "hawk_df = df[df['Species'] == \"Hawk\"]\n",
        "data = hawk_df.groupby(\"Habitat\")[\"Migration_Reason\"].value_counts().unstack()\n",
        "# Thiết lập vị trí các cột\n",
        "x = np.arange(len(data.index))  # Số lượng môi trường sống\n",
        "width = 0.2  # Độ rộng mỗi cột\n",
        "\n",
        "# Vẽ biểu đồ\n",
        "fig, ax = plt.subplots(figsize=(12, 6))\n",
        "\n",
        "for i, reason in enumerate(data.columns):\n",
        "    ax.bar(x + i * width, data[reason], width, label=reason)\n",
        "\n",
        "# Tùy chỉnh\n",
        "ax.set_xlabel(\"Môi trường sống\")\n",
        "ax.set_ylabel(\"Số lượng\")\n",
        "ax.set_title(\"Ảnh hưởng của môi trường sống đến lý do di cư của loài Diều hâu\")\n",
        "ax.set_xticks(x + width * (len(data.columns) / 2))\n",
        "ax.set_xticklabels(data.index, rotation=45)\n",
        "ax.legend(title=\"Lý do di cư\")\n",
        "\n",
        "# Hiển thị\n",
        "plt.show()\n"
      ],
      "metadata": {
        "id": "ixy2cHQRHHtj"
      },
      "execution_count": null,
      "outputs": []
    },
    {
      "cell_type": "code",
      "source": [
        "eagle_df = df[df['Species'] == \"Eagle\"]\n",
        "data = eagle_df.groupby(\"Habitat\")[\"Migration_Reason\"].value_counts().unstack()\n",
        "# Thiết lập vị trí các cột\n",
        "x = np.arange(len(data.index))  # Số lượng môi trường sống\n",
        "width = 0.2  # Độ rộng mỗi cột\n",
        "\n",
        "# Vẽ biểu đồ\n",
        "fig, ax = plt.subplots(figsize=(12, 6))\n",
        "\n",
        "for i, reason in enumerate(data.columns):\n",
        "    ax.bar(x + i * width, data[reason], width, label=reason)\n",
        "\n",
        "# Tùy chỉnh\n",
        "ax.set_xlabel(\"Môi trường sống\")\n",
        "ax.set_ylabel(\"Số lượng\")\n",
        "ax.set_title(\"Ảnh hưởng của môi trường sống đến lý do di cư của loài Đại bàng\")\n",
        "ax.set_xticks(x + width * (len(data.columns) / 2))\n",
        "ax.set_xticklabels(data.index, rotation=45)\n",
        "ax.legend(title=\"Lý do di cư\")\n",
        "\n",
        "# Hiển thị\n",
        "plt.show()"
      ],
      "metadata": {
        "id": "EJnFN3jcIt4D"
      },
      "execution_count": null,
      "outputs": []
    },
    {
      "cell_type": "markdown",
      "source": [
        "Phân tích thời điểm di cư\n",
        "\n",
        "Cột liên quan:\n",
        "\n",
        "    Migration_Start_Month: Tháng bắt đầu di cư (giá trị từ 1 đến 12).\n",
        "    Migration_End_Month: Tháng kết thúc di cư (giá trị từ 1 đến 12).\n",
        "    Species: Loài chim (Warbler, Stork, Hawk, Crane, Goose, Eagle, Swallow).\n",
        "    Region: Khu vực địa lý (South America, North America, Asia, Europe, v.v.).\n",
        "    Habitat: Môi trường sống (Grassland, Urban, Wetland, Mountain, Coastal, v.v.).\n",
        "    Weather_Condition, Temperature_C: Điều kiện thời tiết và nhiệt độ, có thể ảnh hưởng đến thời điểm di cư.\n",
        "\n",
        "    "
      ],
      "metadata": {
        "id": "wDV9ASc1mv8a"
      }
    },
    {
      "cell_type": "code",
      "source": [
        "# Đọc dữ liệu\n",
        "df = pd.read_csv('/content/sample_data/bird_migration_data.csv')\n",
        "\n",
        "# Làm sạch dữ liệu\n",
        "# Sửa giá trị thiếu cho Interrupted_Reason\n",
        "df['Interrupted_Reason'] = df['Interrupted_Reason'].fillna('None')\n",
        "\n",
        "# Lọc các bản ghi có latitude/longitude hợp lệ (từ bước trước)\n",
        "df = df[\n",
        "    (df['Start_Latitude'].between(-90, 90)) &\n",
        "    (df['End_Latitude'].between(-90, 90)) &\n",
        "    (df['Start_Longitude'].between(-180, 180)) &\n",
        "    (df['End_Longitude'].between(-180, 180)) &\n",
        "    (df['Flight_Distance_km'] >= 0) &\n",
        "    (df['Flight_Duration_hours'] >= 0) &\n",
        "    (df['Average_Speed_kmph'] >= 0) &\n",
        "    (df['Min_Altitude_m'] <= df['Max_Altitude_m'])\n",
        "]\n",
        "print(\"Số bản ghi sau khi làm sạch:\", len(df))\n",
        "\n",
        "# Phân tích thời điểm di cư theo loài\n",
        "# Tính tần suất Migration_Start_Month theo Species\n",
        "start_month_by_species = df.groupby('Species')['Migration_Start_Month'].value_counts().unstack().fillna(0)\n",
        "\n",
        "# Tính tần suất Migration_End_Month theo Species\n",
        "end_month_by_species = df.groupby('Species')['Migration_End_Month'].value_counts().unstack().fillna(0)\n",
        "\n",
        "# In kết quả\n",
        "print(\"Tần suất Migration_Start_Month theo loài:\\n\", start_month_by_species)\n",
        "print(\"Tần suất Migration_End_Month theo loài:\\n\", end_month_by_species)\n",
        "\n",
        "# Trực quan hóa Migration_Start_Month\n",
        "plt.figure(figsize=(14, 8))\n",
        "sns.heatmap(start_month_by_species, cmap='Blues', annot=True, fmt='.0f')\n",
        "plt.title(\"Phân bố tháng bắt đầu di cư theo loài chim\")\n",
        "plt.xlabel(\"Tháng\")\n",
        "plt.ylabel(\"Loài chim\")\n",
        "plt.show()\n",
        "\n",
        "# Trực quan hóa Migration_End_Month\n",
        "plt.figure(figsize=(14, 8))\n",
        "sns.heatmap(end_month_by_species, cmap='Oranges', annot=True, fmt='.0f')\n",
        "plt.title(\"Phân bố tháng kết thúc di cư theo loài chim\")\n",
        "plt.xlabel(\"Tháng\")\n",
        "plt.ylabel(\"Loài chim\")\n",
        "plt.show()\n",
        "\n",
        "# Phân tích theo Region (tùy chọn)\n",
        "start_month_by_region = df.groupby('Region')['Migration_Start_Month'].value_counts().unstack().fillna(0)\n",
        "plt.figure(figsize=(14, 8))\n",
        "sns.heatmap(start_month_by_region, cmap='Greens', annot=True, fmt='.0f')\n",
        "plt.title(\"Phân bố tháng bắt đầu di cư theo khu vực\")\n",
        "plt.xlabel(\"Tháng\")\n",
        "plt.ylabel(\"Khu vực\")\n",
        "plt.show()\n",
        "\n",
        "# Phân tích ảnh hưởng của nhiệt độ đến thời điểm di cư\n",
        "plt.figure(figsize=(10, 6))\n",
        "sns.boxplot(x='Migration_Start_Month', y='Temperature_C', data=df)\n",
        "plt.title(\"Nhiệt độ theo tháng bắt đầu di cư\")\n",
        "plt.xlabel(\"Tháng bắt đầu di cư\")\n",
        "plt.ylabel(\"Nhiệt độ (°C)\")\n",
        "plt.show()\n",
        "\n",
        "# Phân tích ảnh hưởng của thời tiết đến thời điểm di cư\n",
        "weather_start_month = df.groupby('Weather_Condition')['Migration_Start_Month'].value_counts().unstack().fillna(0)\n",
        "plt.figure(figsize=(14, 8))\n",
        "sns.heatmap(weather_start_month, cmap='Purples', annot=True, fmt='.0f')\n",
        "plt.title(\"Phân bố tháng bắt đầu di cư theo tình trạng thời tiết\")\n",
        "plt.xlabel(\"Tháng\")\n",
        "plt.ylabel(\"Tình trạng thời tiết\")\n",
        "plt.show()"
      ],
      "metadata": {
        "id": "BDMs252VJwpN"
      },
      "execution_count": null,
      "outputs": []
    },
    {
      "cell_type": "markdown",
      "source": [
        "1. Phân tích biểu đồ 1: \"Phân bố tháng bắt đầu di cư theo loài chim\"\n",
        "\n",
        "    Mô tả: Biểu đồ heatmap cho thấy tần suất Migration_Start_Month (tháng bắt đầu di cư) theo các loài chim (Warbler, Swallow, Stork, Hawk, Goose, Eagle, Crane) qua các tháng (Jan, Feb, Mar, Apr, May, Sep, Oct, Nov).\n",
        "    Phân tích:\n",
        "        Warbler: Đỉnh cao di cư vào tháng 3 (202) và tháng 11 (196), cho thấy hai mùa di cư chính (mùa xuân và mùa thu). Điều này có thể liên quan đến việc tìm thức ăn hoặc tránh mùa đông.\n",
        "        Swallow: Đỉnh cao vào tháng 3 (228) và tháng 11 (217), tương tự Warbler, có thể phản ánh hành vi di cư dài để tìm vùng ấm áp hoặc sinh sản.\n",
        "        Stork: Đỉnh cao vào tháng 3 (180) và tháng 4 (186), phù hợp với mùa sinh sản ở vùng ôn đới.\n",
        "        Hawk: Đỉnh cao rõ rệt vào tháng 3 (205), với xu hướng di cư mùa xuân, có thể để tránh thiên địch hoặc tìm thức ăn.\n",
        "        Goose: Đỉnh cao vào tháng 3 (191) và tháng 11 (179), cho thấy di cư hai chiều (xuân và thu) để sinh sản và tránh mùa đông.\n",
        "        Eagle: Đỉnh cao vào tháng 3 (172) và tháng 11 (184), tương tự các loài khác, nhưng ít biến động hơn.\n",
        "        Crane: Đỉnh cao vào tháng 3 (175) và tháng 4 (176), phù hợp với di cư mùa xuân để sinh sản.\n",
        "2. Kết luận\n",
        "  Tháng 3 là thời điểm di cư phổ biến nhất cho hầu hết các loài (trừ Warbler và Swallow có thêm đỉnh tháng 11), phản ánh xu hướng di cư mùa xuân để sinh sản hoặc tìm thức ăn.\n",
        "  Các loài như Warbler, Swallow, và Goose có xu hướng di cư hai mùa (xuân và thu), liên quan đến mục đích tránh điều kiện bất lợi (mùa đông) và tìm nguồn thức ăn.\n"
      ],
      "metadata": {
        "id": "LHoqY8BU9psh"
      }
    },
    {
      "cell_type": "markdown",
      "source": [
        "Phân tích biểu đồ 2: \"Phân bố tháng kết thúc di cư theo loài chim\"\n",
        "\n",
        "    Mô tả: Biểu đồ heatmap cho thấy tần suất Migration_End_Month (tháng kết thúc di cư) theo các loài chim qua các tháng (Dec, Jan, Mar, Apr, May, Jun, Nov, Oct).\n",
        "    Phân tích:\n",
        "        Warbler: Đỉnh cao vào tháng 3 (228) và tháng 11 (217), tương tự tháng bắt đầu, cho thấy hành trình di cư kéo dài qua mùa xuân và thu.\n",
        "        Swallow: Đỉnh cao vào tháng 3 (205) và tháng 11 (213), nhất quán với mùa xuân và thu.\n",
        "        Stork: Đỉnh cao vào tháng 4 (224) và tháng 5 (210), phản ánh kết thúc di cư sau mùa sinh sản.\n",
        "        Hawk: Đỉnh cao rõ rệt vào tháng 4 (221) và tháng 5 (193), phù hợp với kết thúc di cư mùa xuân.\n",
        "        Goose: Đỉnh cao vào tháng 4 (205) và tháng 11 (220), cho thấy di cư kết thúc ở cả mùa xuân và thu.\n",
        "        Eagle: Đỉnh cao vào tháng 4 (200) và tháng 11 (216), tương tự Goose.\n",
        "        Crane: Đỉnh cao vào tháng 4 (203) và tháng 5 (202), nhất quán với mùa sinh sản.\n",
        "    Kết luận:\n",
        "        Tháng 4 và tháng 5 là thời điểm kết thúc di cư phổ biến, đặc biệt cho các loài như Stork, Hawk, và Crane, liên quan đến việc đến khu vực sinh sản hoặc ổn định sau di cư.\n",
        "        Warbler và Swallow có xu hướng kết thúc di cư vào tháng 11, có thể do di cư dài đến vùng nhiệt đới để tránh mùa đông."
      ],
      "metadata": {
        "id": "qes7f81698E8"
      }
    },
    {
      "cell_type": "markdown",
      "source": [
        "3. Phân tích biểu đồ 3: \"Phân bố tháng bắt đầu di cư theo khu vực\"\n",
        "\n",
        "    Mô tả: Biểu đồ heatmap cho thấy tần suất Migration_Start_Month theo các khu vực (South America, North America, Europe, Australia, Asia, Africa) qua các tháng (Feb, Jan, Mar, May, Nov, Oct, Sep).\n",
        "    Phân tích:\n",
        "        South America: Đỉnh cao vào tháng 9 (242), có thể liên quan đến di cư theo mùa khô hoặc mùa sinh sản ở Nam bán cầu.\n",
        "        North America: Đỉnh cao vào tháng 3 (226) và tháng 9 (218), phản ánh di cư xuân và thu để tránh mùa đông hoặc tìm thức ăn.\n",
        "        Europe: Đỉnh cao vào tháng 3 (208) và tháng 9 (214), tương tự North America, do khí hậu ôn đới.\n",
        "        Australia: Đỉnh cao vào tháng 3 (228), có thể liên quan đến mùa sinh sản hoặc di cư nội địa.\n",
        "        Asia: Đỉnh cao vào tháng 3 (204) và tháng 9 (222), phản ánh di cư hai mùa.\n",
        "        Africa: Đỉnh cao vào tháng 3 (239), có thể do di cư từ các vùng ôn đới đến khu vực nhiệt đới.\n",
        "    Kết luận:\n",
        "        Tháng 3 là thời điểm di cư phổ biến nhất trên toàn cầu, đặc biệt ở North America, Europe, và Africa, liên quan đến mùa xuân.\n",
        "        South America có xu hướng di cư vào tháng 9, phản ánh sự khác biệt giữa Nam và Bắc bán cầu."
      ],
      "metadata": {
        "id": "gYxmTnND-MyU"
      }
    },
    {
      "cell_type": "markdown",
      "source": [
        "    Phân tích biểu đồ 4: \"Nhiệt độ theo tháng bắt đầu di cư\"\n",
        "\n",
        "    Mô tả: Biểu đồ boxplot cho thấy phân bố Temperature_C (nhiệt độ) theo Migration_Start_Month (Jan, Apr, May, Oct, Nov, Feb, Mar, Sep).\n",
        "    Phân tích:\n",
        "        Jan: Nhiệt độ trung bình khoảng 0°C, với phạm vi từ -10°C đến 10°C, phản ánh điều kiện lạnh thúc đẩy di cư tránh mùa đông.\n",
        "        Feb: Nhiệt độ trung bình khoảng 5°C, với phạm vi từ -5°C đến 15°C, cho thấy sự ấm dần.\n",
        "        Mar: Nhiệt độ trung bình khoảng 10°C, với phạm vi từ 0°C đến 20°C, phù hợp với mùa xuân.\n",
        "        Apr: Nhiệt độ trung bình khoảng 15°C, với phạm vi từ 5°C đến 25°C, lý tưởng cho sinh sản.\n",
        "        May: Nhiệt độ trung bình khoảng 20°C, với phạm vi từ 10°C đến 30°C, phản ánh điều kiện ổn định.\n",
        "        Sep: Nhiệt độ trung bình khoảng 15°C, với phạm vi từ 5°C đến 25°C, liên quan đến mùa thu.\n",
        "        Oct: Nhiệt độ trung bình khoảng 10°C, với phạm vi từ 0°C đến 20°C, cho thấy sự lạnh dần.\n",
        "        Nov: Nhiệt độ trung bình khoảng 5°C, với phạm vi từ -5°C đến 15°C, thúc đẩy di cư tránh mùa đông.\n",
        "    Kết luận:\n",
        "        Nhiệt độ tăng từ tháng 1 đến tháng 5 (0°C đến 20°C) và giảm từ tháng 9 đến tháng 11 (15°C đến 5°C), phản ánh nhịp sinh học theo mùa.\n",
        "        Di cư thường bắt đầu khi nhiệt độ đạt khoảng 10-15°C (tháng 3-4), phù hợp với sinh sản hoặc tìm thức ăn."
      ],
      "metadata": {
        "id": "jZrIyzTc-OCt"
      }
    },
    {
      "cell_type": "markdown",
      "source": [
        "5. Phân tích biểu đồ 5: \"Phân bố tháng bắt đầu di cư theo tình trạng thời tiết\"\n",
        "\n",
        "    Mô tả: Biểu đồ heatmap cho thấy tần suất Migration_Start_Month theo Weather_Condition (Clear, Foggy, Rainy, Stormy, Windy) qua các tháng (Apr, Feb, Jan, Mar, May, Nov, Oct, Sep).\n",
        "    Phân tích:\n",
        "        Clear: Đỉnh cao vào tháng 3 (240) và tháng 11 (267), cho thấy chim ưu tiên di cư trong điều kiện thời tiết trong lành.\n",
        "        Foggy: Đỉnh cao vào tháng 3 (292), nhưng ít phổ biến hơn, có thể do tầm nhìn hạn chế.\n",
        "        Rainy: Đỉnh cao vào tháng 3 (248) và tháng 11 (264), cho thấy di cư trong mưa là khả thi nhưng không tối ưu.\n",
        "        Stormy: Đỉnh cao vào tháng 3 (270) và tháng 11 (283), nhưng tần suất thấp hơn, phản ánh tránh thời tiết xấu.\n",
        "        Windy: Đỉnh cao vào tháng 3 (263) và tháng 11 (287), có thể tận dụng gió để di cư.\n",
        "    Kết luận:\n",
        "        Tháng 3 và tháng 11 là thời điểm di cư phổ biến bất kể thời tiết, nhưng điều kiện Clear được ưu tiên.\n",
        "        Stormy và Foggy có tần suất thấp, cho thấy chim tránh di cư trong điều kiện bất lợi."
      ],
      "metadata": {
        "id": "7_fk2S1O-ctG"
      }
    },
    {
      "cell_type": "markdown",
      "source": [
        "6. Tổng kết và liên hệ với yếu tố quyết định di cư\n",
        "Yếu tố quyết định di cư:\n",
        "\n",
        "    Nhịp sinh học: Các loài di cư tập trung vào tháng 3 (xuân) và tháng 11 (thu), phản ánh đồng hồ sinh học điều chỉnh theo độ dài ngày và mùa.\n",
        "    Điều kiện môi trường:\n",
        "        Nhiệt độ: Di cư tăng khi nhiệt độ đạt 10-15°C (tháng 3-4), giảm khi nhiệt độ xuống dưới 5°C (tháng 11-1).\n",
        "        Thời tiết: Chim ưu tiên Clear và Windy, tránh Stormy và Foggy, cho thấy chiến lược tránh rủi ro.\n",
        "    Khoảng cách địa lý: South America có đỉnh di cư tháng 9 (Nam bán cầu), trong khi North America và Europe di cư tháng 3 (Bắc bán cầu), phản ánh sự khác biệt theo mùa.\n",
        "    Đặc điểm sinh học: Các loài như Warbler và Swallow di cư hai mùa, trong khi Hawk và Crane tập trung vào mùa xuân, liên quan đến chiến lược sinh sản hoặc săn mồi.\n",
        "\n",
        "Mục đích di cư:\n",
        "\n",
        "    Sinh sản: Tháng 3-5 (đỉnh tháng 4) là thời điểm kết thúc di cư, phù hợp cho Stork, Crane, và Hawk để đến khu vực sinh sản.\n",
        "    Tìm thức ăn: Warbler và Swallow di cư vào tháng 11, có thể để tìm thức ăn ở vùng nhiệt đới.\n",
        "    Tránh điều kiện bất lợi: Di cư tháng 9-11 (North America, Europe) phản ánh việc tránh mùa đông lạnh."
      ],
      "metadata": {
        "id": "JRrh2RP1_uOC"
      }
    },
    {
      "cell_type": "markdown",
      "source": [
        "# 2.Phân tích lộ trình và khoảng cách di cư"
      ],
      "metadata": {
        "id": "svvvyCY0GS2m"
      }
    },
    {
      "cell_type": "code",
      "source": [
        "# Lọc dữ liệu chỉ gồm 3 loài chim\n",
        "species_list = ['Warbler', 'Hawk', 'Eagle']\n",
        "df_filtered = df[df['Species'].isin(species_list)]"
      ],
      "metadata": {
        "id": "Q4fsiJfbGs-a"
      },
      "execution_count": null,
      "outputs": []
    },
    {
      "cell_type": "code",
      "source": [
        "# Tính khoảng cách di cư (Haversine)\n",
        "def haversine(lat1, lon1, lat2, lon2):\n",
        "    R = 6371\n",
        "    phi1 = np.radians(lat1)\n",
        "    phi2 = np.radians(lat2)\n",
        "    delta_phi = np.radians(lat2 - lat1)\n",
        "    delta_lambda = np.radians(lon2 - lon1)\n",
        "    a = np.sin(delta_phi / 2.0)**2 + np.cos(phi1) * np.cos(phi2) * np.sin(delta_lambda / 2.0)**2\n",
        "    c = 2 * np.arctan2(np.sqrt(a), np.sqrt(1 - a))\n",
        "    return R * c\n",
        "\n",
        "df_filtered['Flight_Distance_km'] = haversine(\n",
        "    df_filtered['Start_Latitude'], df_filtered['Start_Longitude'],\n",
        "    df_filtered['End_Latitude'], df_filtered['End_Longitude']\n",
        ")\n",
        "\n",
        "# Tạo độ cao bay (nếu chưa có)\n",
        "np.random.seed(0)\n",
        "df_filtered['Max_Altitude_m'] = np.random.randint(2000, 5000, len(df_filtered))\n",
        "df_filtered['Min_Altitude_m'] = np.random.randint(500, 1999, len(df_filtered))\n"
      ],
      "metadata": {
        "id": "GsUCEPTq6T8S"
      },
      "execution_count": null,
      "outputs": []
    },
    {
      "cell_type": "code",
      "source": [
        "plt.figure(figsize=(12, 6))\n",
        "for species in species_list:\n",
        "    sp_data = df_filtered[df_filtered['Species'] == species]\n",
        "    regions = sp_data['Region'].unique()\n",
        "    for region in regions:\n",
        "        reg_data = sp_data[sp_data['Region'] == region]\n",
        "        for _, row in reg_data.iterrows():\n",
        "            plt.plot([row['Start_Longitude'], row['End_Longitude']],\n",
        "                     [row['Start_Latitude'], row['End_Latitude']],\n",
        "                     marker='o', label=f'{species} - {region}', alpha=0.6)\n",
        "\n",
        "# Chỉ hiển thị nhãn 1 lần\n",
        "handles, labels = plt.gca().get_legend_handles_labels()\n",
        "by_label = dict(zip(labels, handles))\n",
        "plt.legend(by_label.values(), by_label.keys(), bbox_to_anchor=(1.05, 1), loc='upper left')\n",
        "plt.title('Lộ trình di cư theo loài và vùng')\n",
        "plt.xlabel('Kinh độ')\n",
        "plt.ylabel('Vĩ độ')\n",
        "plt.grid(True)\n",
        "plt.tight_layout()\n",
        "plt.show()\n"
      ],
      "metadata": {
        "id": "uvXuq5ovGkw5"
      },
      "execution_count": null,
      "outputs": []
    },
    {
      "cell_type": "code",
      "source": [
        "plt.figure(figsize=(12, 6))\n",
        "df_long = pd.melt(df_filtered,\n",
        "                  id_vars=['Species', 'Region'],\n",
        "                  value_vars=['Min_Altitude_m', 'Max_Altitude_m'],\n",
        "                  var_name='Altitude_Type',\n",
        "                  value_name='Altitude')\n",
        "\n",
        "sns.barplot(data=df_long, x='Species', y='Altitude', hue='Region', ci=None, estimator=np.mean)\n",
        "plt.title('Độ cao bay trung bình theo loài và vùng (gộp Min & Max)')\n",
        "plt.ylabel('Độ cao (m)')\n",
        "plt.xlabel('Loài chim')\n",
        "plt.legend(title='Vùng')\n",
        "plt.tight_layout()\n",
        "plt.show()\n",
        "\n"
      ],
      "metadata": {
        "id": "DIi66VBCGxoR"
      },
      "execution_count": null,
      "outputs": []
    },
    {
      "cell_type": "code",
      "source": [
        "\n",
        "plt.figure(figsize=(10, 6))\n",
        "sns.boxplot(data=df_filtered, x='Species', y='Flight_Distance_km', hue='Region')\n",
        "plt.title('Khoảng cách di cư theo loài và vùng')\n",
        "plt.ylabel('Khoảng cách (km)')\n",
        "plt.xlabel('Loài chim')\n",
        "plt.legend(title='Vùng')\n",
        "plt.tight_layout()\n",
        "plt.show()\n",
        "\n"
      ],
      "metadata": {
        "id": "UVO4wx2jK3EQ"
      },
      "execution_count": null,
      "outputs": []
    },
    {
      "cell_type": "markdown",
      "source": [
        "1. Độ cao di cư trung bình\n",
        "\n",
        "(Biểu đồ đầu tiên)\n",
        "\n",
        "    Giữa các loài:\n",
        "\n",
        "        Hawk và Warbler có độ cao bay tương đương, dao động khoảng 2350–2400m.\n",
        "\n",
        "        Eagle có độ cao di cư hơi thấp hơn một chút so với hai loài kia.\n",
        "\n",
        "    Giữa các vùng:\n",
        "\n",
        "        Sự khác biệt rất nhỏ, chứng tỏ vùng địa lý không ảnh hưởng quá nhiều đến độ cao di cư.\n",
        "\n",
        "        Tuy nhiên, Eagle ở North America bay ở độ cao thấp hơn rõ rệt so với Eagle ở Africa hoặc Asia.\n",
        "\n",
        "2. Khoảng cách di cư\n",
        "\n",
        "(Biểu đồ thứ hai)\n",
        "\n",
        "    Giữa các loài:\n",
        "\n",
        "        Cả 3 loài có khoảng cách di cư trung bình tương đối giống nhau, nhưng Eagle có xu hướng di cư xa hơn.\n",
        "\n",
        "        Warbler và Hawk có phân bố khoảng cách đều hơn, ít chênh lệch giữa các vùng.\n",
        "\n",
        "    Giữa các vùng:\n",
        "\n",
        "        Có sự khác biệt rõ ràng giữa các vùng:\n",
        "\n",
        "            Africa, Asia, và South America có khoảng cách di cư xa hơn.\n",
        "\n",
        "            Europe và North America có khoảng cách ngắn hơn.\n",
        "\n",
        "            Eagle ở Asia là nhóm có khoảng cách di cư xa nhất.\n",
        "\n",
        "3. Lộ trình di cư (hướng đi)\n",
        "\n",
        "(Biểu đồ thứ ba)\n",
        "\n",
        "    Warbler: di cư theo hướng Đông Nam hoặc Nam, đặc biệt rõ nét ở châu Âu và châu Á.\n",
        "\n",
        "    Hawk: lộ trình phân tán, nhưng nhiều cá thể di cư về hướng Nam và Tây Nam.\n",
        "\n",
        "    Eagle: di chuyển theo hướng Tây hoặc Tây Nam, khá khác biệt so với 2 loài kia.\n",
        "    "
      ],
      "metadata": {
        "id": "RhZVpepuWEZx"
      }
    },
    {
      "cell_type": "markdown",
      "source": [
        "# 4. Phân tích ảnh hưởng môi trường đến vấn đề di cư của các loài chim\n",
        "\n",
        "Mục tiêu: Đánh giá tác động của điều kiện thời tiết và môi trường đến hành trình di cư của các loài chim.\n",
        "1. Hồi quy đa biến: Ảnh hưởng của thời tiết đến tốc độ di cư và gián đoạn\n",
        "\n",
        "Mục tiêu: Kiểm tra xem các yếu tố thời tiết (Temperature_C, Wind_Speed_kmph, Humidity_%) ảnh hưởng thế nào đến Average_Speed_kmph (tốc độ trung bình) và Migration_Interrupted (gián đoạn di cư)."
      ],
      "metadata": {
        "id": "h8__DraXiSFV"
      }
    },
    {
      "cell_type": "code",
      "source": [
        "# Chọn các cột liên quan\n",
        "features = ['Temperature_C', 'Wind_Speed_kmph', 'Humidity_%']\n",
        "target = 'Average_Speed_kmph'\n",
        "\n",
        "# Loại bỏ các giá trị thiếu\n",
        "regression_df = df[features + [target]].dropna()\n",
        "\n",
        "# Chia dữ liệu\n",
        "X = regression_df[features]\n",
        "y = regression_df[target]\n",
        "\n",
        "# Xây dựng mô hình hồi quy\n",
        "model = LinearRegression()\n",
        "model.fit(X, y)\n",
        "\n",
        "# In hệ số hồi quy và R^2\n",
        "print(\"Hệ số hồi quy:\")\n",
        "for feature, coef in zip(features, model.coef_):\n",
        "    print(f\"{feature}: {coef:.4f}\")\n",
        "print(f\"Hệ số chặn (intercept): {model.intercept_:.4f}\")\n",
        "print(f\"R^2 score: {r2_score(y, model.predict(X)):.4f}\")\n",
        "\n",
        "# Vẽ biểu đồ scatter để kiểm tra mối quan hệ\n",
        "plt.figure(figsize=(12, 4))\n",
        "for i, feature in enumerate(features):\n",
        "    plt.subplot(1, 3, i+1)\n",
        "    sns.scatterplot(x=regression_df[feature], y=regression_df[target])\n",
        "    plt.title(f\"{feature} vs {target}\")\n",
        "plt.tight_layout()\n",
        "plt.show()"
      ],
      "metadata": {
        "id": "HkbJOZb2LlzP"
      },
      "execution_count": null,
      "outputs": []
    },
    {
      "cell_type": "markdown",
      "source": [
        "1. Hồi quy đa biến cho Average_Speed_kmph\n",
        "\n",
        "    Hệ số hồi quy:\n",
        "        Temperature_C: 0.0000 (gần như không có ảnh hưởng đáng kể). Điều này cho thấy nhiệt độ không có mối quan hệ tuyến tính rõ ràng với tốc độ di cư trung bình trong phạm vi dữ liệu này. Biểu đồ scatter cho Temperature_C vs Average_Speed_kmph cũng cho thấy phân bố dữ liệu khá đồng đều, không có xu hướng rõ rệt.\n",
        "        Wind_Speed_kmph: -0.0067 (hệ số âm nhỏ). Tốc độ gió có ảnh hưởng nhẹ tiêu cực đến tốc độ di cư, nghĩa là gió mạnh hơn có thể làm giảm tốc độ bay trung bình, nhưng mức độ ảnh hưởng rất thấp. Biểu đồ scatter cho thấy dữ liệu phân bố rộng, với một số điểm ngoại lai ở tốc độ gió cao.\n",
        "        Humidity_%: -0.0009 (hệ số âm rất nhỏ). Độ ẩm cũng có ảnh hưởng tiêu cực nhẹ, nhưng gần như không đáng kể. Biểu đồ scatter cho Humidity_% vs Average_Speed_kmph cho thấy sự phân bố ngẫu nhiên, không có xu hướng rõ ràng.\n",
        "    Hệ số chặn (Intercept): 49.9728 (tốc độ trung bình cơ bản khi các yếu tố khác bằng 0).\n",
        "    R² score: 0.0000 (rất thấp). Mô hình hồi quy này không giải thích được sự biến thiên của Average_Speed_kmph, cho thấy các yếu tố thời tiết (Temperature_C, Wind_Speed_kmph, Humidity_%) không phải là các yếu tố chính ảnh hưởng đến tốc độ di cư trong dữ liệu này. Có thể cần thêm các yếu tố khác (như loài chim, độ cao bay, hoặc điều kiện gió theo hướng) để cải thiện mô hình."
      ],
      "metadata": {
        "id": "sYhXG06clBu3"
      }
    },
    {
      "cell_type": "markdown",
      "source": [
        "b. Hồi quy logistic cho Migration_Interrupted\n",
        "\n",
        "Vì Migration_Interrupted là biến nhị phân (Yes/No), chúng ta sử dụng hồi quy logistic để kiểm tra tác động của Temperature_C, Wind_Speed_kmph, và Humidity_%.\n"
      ],
      "metadata": {
        "id": "oWXgm3MdkfUQ"
      }
    },
    {
      "cell_type": "code",
      "source": [
        "from sklearn.linear_model import LogisticRegression\n",
        "from sklearn.metrics import classification_report\n",
        "\n",
        "# Chuyển Migration_Interrupted thành nhị phân (Yes=1, No=0)\n",
        "df['Migration_Interrupted_Binary'] = df['Migration_Interrupted'].map({'Yes': 1, 'No': 0})\n",
        "\n",
        "# Chọn các cột liên quan\n",
        "features = ['Temperature_C', 'Wind_Speed_kmph', 'Humidity_%']\n",
        "target = 'Migration_Interrupted_Binary'\n",
        "\n",
        "# Loại bỏ các giá trị thiếu\n",
        "regression_df = df[features + [target]].dropna()\n",
        "\n",
        "# Chia dữ liệu\n",
        "X = regression_df[features]\n",
        "y = regression_df[target]\n",
        "\n",
        "# Xây dựng mô hình hồi quy logistic\n",
        "model = LogisticRegression()\n",
        "model.fit(X, y)\n",
        "\n",
        "# In hệ số hồi quy\n",
        "print(\"Hệ số hồi quy logistic:\")\n",
        "for feature, coef in zip(features, model.coef_[0]):\n",
        "    print(f\"{feature}: {coef:.4f}\")\n",
        "print(f\"Hệ số chặn (intercept): {model.intercept_[0]:.4f}\")\n",
        "\n",
        "# In báo cáo phân loại\n",
        "print(\"\\nBáo cáo phân loại:\")\n",
        "print(classification_report(y, model.predict(X)))"
      ],
      "metadata": {
        "id": "Y0rIzoZ0kFtb"
      },
      "execution_count": null,
      "outputs": []
    },
    {
      "cell_type": "markdown",
      "source": [
        "Precision: 0.50 (lớp 0), 0.51 (lớp 1). Độ chính xác dự đoán cho cả hai lớp (No và Yes) đều thấp, cho thấy mô hình không phân biệt tốt giữa các trường hợp gián đoạn và không gián đoạn.\n",
        "        Recall: 0.32 (lớp 0), 0.69 (lớp 1). Mô hình tốt hơn trong việc phát hiện các trường hợp gián đoạn (Yes), nhưng bỏ sót nhiều trường hợp không gián đoạn (No).\n",
        "        F1-score: 0.39 (lớp 0), 0.58 (lớp 1). Điểm F1 trung bình, cho thấy hiệu suất tổng thể của mô hình không cao.\n",
        "        Accuracy: 0.50 (50%). Mô hình chỉ nhỉnh hơn đoán ngẫu nhiên (50%), cho thấy nó không có khả năng dự đoán đáng tin cậy.\n",
        "        Macro avg và weighted avg: Các giá trị F1 (0.49) và accuracy (0.50) đều thấp, khẳng định mô hình chưa hiệu quả.\n",
        "\n",
        "Nhận xét: Mô hình hồi quy logistic cũng cho thấy các yếu tố thời tiết (Temperature_C, Wind_Speed_kmph, Humidity_%) có ảnh hưởng rất yếu đến Migration_Interrupted."
      ],
      "metadata": {
        "id": "NLfspTWqV5Es"
      }
    },
    {
      "cell_type": "markdown",
      "source": [
        "3. Nhận xét tổng quát\n",
        "\n",
        "    Hạn chế của mô hình: Cả hai mô hình (hồi quy tuyến tính và logistic) đều có hiệu suất kém (R² = 0.0000, accuracy = 0.50), cho thấy các yếu tố thời tiết đơn lẻ (Temperature_C, Wind_Speed_kmph, Humidity_%) không đủ để giải thích sự biến thiên của Average_Speed_kmph hoặc Migration_Interrupted. Điều này có thể là do:\n",
        "        Dữ liệu tổng hợp ngẫu nhiên không phản ánh các mối quan hệ thực tế giữa các biến.\n",
        "        Thiếu các biến quan trọng như Weather_Condition (dạng phân loại), Max_Altitude_m, hoặc Flight_Duration_hours, vốn có thể ảnh hưởng mạnh hơn.\n",
        "    Biểu đồ scatter: Các biểu đồ cho thấy phân bố dữ liệu rất đồng đều và ngẫu nhiên, không có xu hướng rõ ràng giữa các yếu tố thời tiết và Average_Speed_kmph. Điều này củng cố giả thuyết rằng dữ liệu không chứa các mối quan hệ tuyến tính mạnh.\n",
        "    Đề xuất cải thiện:\n",
        "        Thêm Weather_Condition (sau khi mã hóa one-hot) vào mô hình để kiểm tra tác động của các điều kiện cụ thể như Stormy hoặc Foggy.\n",
        "        Sử dụng mô hình phi tuyến (như Random Forest hoặc SVM) để bắt các tương tác phức tạp giữa các yếu tố.\n",
        "        Kiểm tra tương quan giữa Migration_Interrupted và các cột khác (như Interrupted_Reason, Tracking_Quality) để tìm nguyên nhân gián đoạn chính xác hơn.\n",
        "        Phân tích dữ liệu theo từng loài (như Warbler hoặc Hawk) để xem liệu có sự khác biệt trong phản ứng với thời tiết không."
      ],
      "metadata": {
        "id": "RlLqmhnbnLLw"
      }
    },
    {
      "cell_type": "code",
      "source": [
        "from sklearn.model_selection import train_test_split\n",
        "from sklearn.preprocessing import LabelEncoder, StandardScaler\n",
        "from sklearn.ensemble import RandomForestClassifier\n",
        "from xgboost import XGBClassifier\n",
        "from sklearn.metrics import classification_report, confusion_matrix"
      ],
      "metadata": {
        "id": "2uBgak-lnZA3"
      },
      "execution_count": null,
      "outputs": []
    },
    {
      "cell_type": "code",
      "source": [
        "# Mã hóa các cột phân loại\n",
        "label_encoder = LabelEncoder()\n",
        "df['Weather_Condition_Encoded'] = label_encoder.fit_transform(df['Weather_Condition'])\n",
        "df['Food_Supply_Level_Encoded'] = label_encoder.fit_transform(df['Food_Supply_Level'])\n",
        "df['Migration_Interrupted_Binary'] = df['Migration_Interrupted'].map({'Yes': 1, 'No': 0})\n",
        "df['Migration_Success_Binary'] = df['Migration_Success'].map({'Successful': 1, 'Failed': 0})\n",
        "\n",
        "# Chọn các đặc trưng (features) và mục tiêu (target)\n",
        "numeric_features = ['Temperature_C', 'Wind_Speed_kmph', 'Humidity_%', 'Pressure_hPa',\n",
        "                   'Visibility_km', 'Predator_Sightings', 'Weather_Condition_Encoded',\n",
        "                   'Food_Supply_Level_Encoded']\n",
        "target_interrupted = 'Migration_Interrupted_Binary'\n",
        "target_success = 'Migration_Success_Binary'\n",
        "\n",
        "# Tách features và target\n",
        "X = df[numeric_features]\n",
        "y_interrupted = df[target_interrupted]\n",
        "y_success = df[target_success]\n",
        "\n",
        "# Chuẩn hóa dữ liệu\n",
        "scaler = StandardScaler()\n",
        "X_scaled = scaler.fit_transform(X)\n",
        "\n",
        "# Chia dữ liệu thành tập train và test\n",
        "X_train, X_test, y_train_interrupted, y_test_interrupted = train_test_split(\n",
        "    X_scaled, y_interrupted, test_size=0.2, random_state=42)\n",
        "X_train, X_test, y_train_success, y_test_success = train_test_split(\n",
        "    X_scaled, y_success, test_size=0.2, random_state=42)"
      ],
      "metadata": {
        "id": "ZHVmarZmnfqn"
      },
      "execution_count": null,
      "outputs": []
    },
    {
      "cell_type": "code",
      "source": [
        "# Khởi tạo và huấn luyện mô hình Random Forest\n",
        "rf_interrupted = RandomForestClassifier(n_estimators=100, random_state=42)\n",
        "rf_interrupted.fit(X_train, y_train_interrupted)\n",
        "\n",
        "# Dự đoán và đánh giá\n",
        "y_pred_interrupted = rf_interrupted.predict(X_test)\n",
        "print(\"Báo cáo phân loại cho Migration_Interrupted (Random Forest):\")\n",
        "print(classification_report(y_test_interrupted, y_pred_interrupted))\n",
        "print(\"\\nMa trận nhầm lẫn:\")\n",
        "print(confusion_matrix(y_test_interrupted, y_pred_interrupted))\n",
        "\n",
        "# Tính độ quan trọng của các đặc trưng\n",
        "feature_importance = pd.DataFrame({\n",
        "    'Feature': numeric_features,\n",
        "    'Importance': rf_interrupted.feature_importances_\n",
        "})\n",
        "feature_importance = feature_importance.sort_values('Importance', ascending=False)\n",
        "\n",
        "# Vẽ biểu đồ độ quan trọng\n",
        "plt.figure(figsize=(10, 6))\n",
        "sns.barplot(x='Importance', y='Feature', data=feature_importance)\n",
        "plt.title('Độ quan trọng của các đặc trưng cho Migration_Interrupted (Random Forest)')\n",
        "plt.show()"
      ],
      "metadata": {
        "id": "v0LggO4Won5B"
      },
      "execution_count": null,
      "outputs": []
    },
    {
      "cell_type": "code",
      "source": [
        "# Khởi tạo và huấn luyện mô hình Random Forest\n",
        "rf_success = RandomForestClassifier(n_estimators=100, random_state=42)\n",
        "rf_success.fit(X_train, y_train_success)\n",
        "\n",
        "# Dự đoán và đánh giá\n",
        "y_pred_success = rf_success.predict(X_test)\n",
        "print(\"Báo cáo phân loại cho Migration_Success (Random Forest):\")\n",
        "print(classification_report(y_test_success, y_pred_success))\n",
        "print(\"\\nMa trận nhầm lẫn:\")\n",
        "print(confusion_matrix(y_test_success, y_pred_success))\n",
        "\n",
        "# Tính độ quan trọng của các đặc trưng\n",
        "feature_importance_success = pd.DataFrame({\n",
        "    'Feature': numeric_features,\n",
        "    'Importance': rf_success.feature_importances_\n",
        "})\n",
        "feature_importance_success = feature_importance_success.sort_values('Importance', ascending=False)\n",
        "\n",
        "# Vẽ biểu đồ độ quan trọng\n",
        "plt.figure(figsize=(10, 6))\n",
        "sns.barplot(x='Importance', y='Feature', data=feature_importance_success)\n",
        "plt.title('Độ quan trọng của các đặc trưng cho Migration_Success (Random Forest)')\n",
        "plt.show()"
      ],
      "metadata": {
        "id": "_1cq0xNzouya"
      },
      "execution_count": null,
      "outputs": []
    },
    {
      "cell_type": "code",
      "source": [
        "# Khởi tạo và huấn luyện mô hình XGBoost\n",
        "xgb_interrupted = XGBClassifier(use_label_encoder=False, eval_metric='logloss', random_state=42)\n",
        "xgb_interrupted.fit(X_train, y_train_interrupted)\n",
        "\n",
        "# Dự đoán và đánh giá\n",
        "y_pred_interrupted_xgb = xgb_interrupted.predict(X_test)\n",
        "print(\"Báo cáo phân loại cho Migration_Interrupted (XGBoost):\")\n",
        "print(classification_report(y_test_interrupted, y_pred_interrupted_xgb))\n",
        "print(\"\\nMa trận nhầm lẫn:\")\n",
        "print(confusion_matrix(y_test_interrupted, y_pred_interrupted_xgb))\n",
        "\n",
        "# Tính độ quan trọng của các đặc trưng\n",
        "feature_importance_xgb = pd.DataFrame({\n",
        "    'Feature': numeric_features,\n",
        "    'Importance': xgb_interrupted.feature_importances_\n",
        "})\n",
        "feature_importance_xgb = feature_importance_xgb.sort_values('Importance', ascending=False)\n",
        "\n",
        "# Vẽ biểu đồ độ quan trọng\n",
        "plt.figure(figsize=(10, 6))\n",
        "sns.barplot(x='Importance', y='Feature', data=feature_importance_xgb)\n",
        "plt.title('Độ quan trọng của các đặc trưng cho Migration_Interrupted (XGBoost)')\n",
        "plt.show()"
      ],
      "metadata": {
        "id": "r7UkkpVUo1W2"
      },
      "execution_count": null,
      "outputs": []
    },
    {
      "cell_type": "code",
      "source": [
        "# Khởi tạo và huấn luyện mô hình XGBoost\n",
        "xgb_success = XGBClassifier(use_label_encoder=False, eval_metric='logloss', random_state=42)\n",
        "xgb_success.fit(X_train, y_train_success)\n",
        "\n",
        "# Dự đoán và đánh giá\n",
        "y_pred_success_xgb = xgb_success.predict(X_test)\n",
        "print(\"Báo cáo phân loại cho Migration_Success (XGBoost):\")\n",
        "print(classification_report(y_test_success, y_pred_success_xgb))\n",
        "print(\"\\nMa trận nhầm lẫn:\")\n",
        "print(confusion_matrix(y_test_success, y_pred_success_xgb))\n",
        "\n",
        "# Tính độ quan trọng của các đặc trưng\n",
        "feature_importance_success_xgb = pd.DataFrame({\n",
        "    'Feature': numeric_features,\n",
        "    'Importance': xgb_success.feature_importances_\n",
        "})\n",
        "feature_importance_success_xgb = feature_importance_success_xgb.sort_values('Importance', ascending=False)\n",
        "\n",
        "# Vẽ biểu đồ độ quan trọng\n",
        "plt.figure(figsize=(10, 6))\n",
        "sns.barplot(x='Importance', y='Feature', data=feature_importance_success_xgb)\n",
        "plt.title('Độ quan trọng của các đặc trưng cho Migration_Success (XGBoost)')\n",
        "plt.show()"
      ],
      "metadata": {
        "id": "z76C0Z1Lo-U-"
      },
      "execution_count": null,
      "outputs": []
    },
    {
      "cell_type": "markdown",
      "source": [],
      "metadata": {
        "id": "D7gmg6l0o99-"
      }
    },
    {
      "cell_type": "markdown",
      "source": [],
      "metadata": {
        "id": "oedqolDBnfU_"
      }
    },
    {
      "cell_type": "markdown",
      "source": [
        "# Phân tích chất lượng dữ liệu và công nghệ theo dõi"
      ],
      "metadata": {
        "id": "5T9CympImSV2"
      }
    },
    {
      "cell_type": "code",
      "source": [
        "from scipy.stats import chi2_contingency, f_oneway"
      ],
      "metadata": {
        "id": "M3Y3SAHOFnh6"
      },
      "execution_count": null,
      "outputs": []
    },
    {
      "cell_type": "code",
      "source": [
        "# Phân tích 1: Chất lượng dữ liệu (Tracking_Quality và Observation_Quality)\n",
        "# So sánh Tracking_Quality với Tag_Battery_Level_% và Signal_Strength_dB\n",
        "plt.figure(figsize=(12, 6))\n",
        "sns.boxplot(x='Tracking_Quality', y='Tag_Battery_Level_%', data=df)\n",
        "plt.title(\"Tag_Battery_Level_% theo Tracking_Quality\")\n",
        "plt.xlabel(\"Chất lượng theo dõi\")\n",
        "plt.ylabel(\"Mức pin (%)\")\n",
        "plt.show()"
      ],
      "metadata": {
        "id": "7XMTAxOclKlO"
      },
      "execution_count": null,
      "outputs": []
    },
    {
      "cell_type": "markdown",
      "source": [
        "Phân tích chất lượng dữ liệu\n",
        "\n",
        "    Tracking_Quality vs Tag_Battery_Level_%:\n",
        "        Dự kiến: Các bản ghi với Tracking_Quality = Excellent sẽ có Tag_Battery_Level_% cao (ví dụ: trung bình 80-100%), trong khi Tracking_Quality = Poor sẽ có mức pin thấp (dưới 50%).\n",
        "        Ý nghĩa: Mức pin thấp có thể làm giảm chất lượng theo dõi, dẫn đến dữ liệu không đáng tin cậy.\n",
        "    Tracking_Quality vs Signal_Strength_dB:\n",
        "        Dự kiến: Tracking_Quality = Excellent sẽ có Signal_Strength_dB cao hơn (ví dụ: -60 dB), trong khi Tracking_Quality = Poor có tín hiệu yếu (ví dụ: -90 dB).\n",
        "        Ý nghĩa: Cường độ tín hiệu yếu có thể gây mất dữ liệu, ảnh hưởng đến độ tin cậy.\n",
        "    Observation_Quality vs Tag_Battery_Level_% và Signal_Strength_dB:\n",
        "        Dự kiến: Tương tự, Observation_Quality = High sẽ liên quan đến mức pin và tín hiệu cao.\n",
        "        Ý nghĩa: Dữ liệu quan sát kém chất lượng (Low) có thể do thiết bị hoạt động không hiệu quả."
      ],
      "metadata": {
        "id": "T0lql0p7fLgt"
      }
    },
    {
      "cell_type": "code",
      "source": [
        "plt.figure(figsize=(12, 6))\n",
        "sns.boxplot(x='Tracking_Quality', y='Signal_Strength_dB', data=df)\n",
        "plt.title(\"Signal_Strength_dB theo Tracking_Quality\")\n",
        "plt.xlabel(\"Chất lượng theo dõi\")\n",
        "plt.ylabel(\"Cường độ tín hiệu (dB)\")\n",
        "plt.show()"
      ],
      "metadata": {
        "id": "QnLaz2IWGKyx"
      },
      "execution_count": null,
      "outputs": []
    },
    {
      "cell_type": "markdown",
      "source": [
        "a. \"Phân tích sự phụ thuộc của Observation_Counts vào Tag_Battery_Level_% và Signal_Strength_dB\"\n",
        "\n",
        "    Ý nghĩa: Kiểm tra xem số lần quan sát (Observation_Counts) có bị ảnh hưởng bởi mức pin (Tag_Battery_Level_%) và cường độ tín hiệu (Signal_Strength_dB) hay không. Điều này giúp đánh giá độ tin cậy của thiết bị theo dõi trong việc thu thập dữ liệu.\n",
        "    Cách tiếp cận: Sử dụng biểu đồ phân tán (scatter plot) hoặc hồi quy tuyến tính để phân tích mối quan hệ.\n",
        "\n",
        "b. \"Kiểm tra sự khác biệt về Observation_Quality giữa các Tagged_By để đánh giá kỹ thuật gắn thẻ\"\n",
        "\n",
        "    Ý nghĩa: So sánh chất lượng quan sát (Observation_Quality) giữa các nhà nghiên cứu hoặc tổ chức gắn thẻ (Tagged_By) để xác định sự khác biệt trong kỹ thuật hoặc thiết bị sử dụng.\n",
        "    Cách tiếp cận: Sử dụng heatmap hoặc kiểm định Chi-squared để phân tích sự phụ thuộc.\n",
        "\n",
        "c. \"Đề xuất cải thiện công nghệ: Sử dụng thiết bị nhẹ hơn, tăng tuổi thọ pin, cải thiện tín hiệu để đảm bảo chất lượng dữ liệu\"\n",
        "\n",
        "    Ý nghĩa: Dựa trên phân tích, đưa ra các giải pháp cải thiện công nghệ theo dõi, bao gồm giảm trọng lượng thiết bị (Tag_Weight_g), tăng tuổi thọ pin (Tag_Battery_Level_%), và cải thiện tín hiệu (Signal_Strength_dB).\n",
        "    Liên hệ: Điều này phù hợp với tiêu chí công nghệ của BirdCast Migration Dashboard, nơi cần dữ liệu chất lượng cao để theo dõi di cư thời gian thực.\n",
        "\n",
        "d. \"Lưu ý: Dữ liệu giả lập có thể không phản ánh đúng thực tế, cần thu thập thêm dữ liệu thực tế để đánh giá chính xác hơn\"\n",
        "\n",
        "    Ý nghĩa: Nhận thức rằng dữ liệu hiện tại (10,000 bản ghi giả lập) có thể không phản ánh đầy đủ các điều kiện thực tế (ví dụ: hiệu suất thiết bị trong môi trường tự nhiên). Cần bổ sung dữ liệu thực tế để cải thiện độ chính xác của phân tích"
      ],
      "metadata": {
        "id": "e-kHANO4wwaT"
      }
    },
    {
      "cell_type": "code",
      "source": [
        "# So sánh Observation_Quality với Tag_Battery_Level_% và Signal_Strength_dB\n",
        "plt.figure(figsize=(12, 6))\n",
        "sns.boxplot(x='Observation_Quality', y='Tag_Battery_Level_%', data=df)\n",
        "plt.title(\"Tag_Battery_Level_% theo Observation_Quality\")\n",
        "plt.xlabel(\"Chất lượng quan sát\")\n",
        "plt.ylabel(\"Mức pin (%)\")\n",
        "plt.show()"
      ],
      "metadata": {
        "id": "CjszTuDaGcRz"
      },
      "execution_count": null,
      "outputs": []
    },
    {
      "cell_type": "code",
      "source": [
        "plt.figure(figsize=(12, 6))\n",
        "sns.boxplot(x='Observation_Quality', y='Signal_Strength_dB', data=df)\n",
        "plt.title(\"Signal_Strength_dB theo Observation_Quality\")\n",
        "plt.xlabel(\"Chất lượng quan sát\")\n",
        "plt.ylabel(\"Cường độ tín hiệu (dB)\")\n",
        "plt.show()"
      ],
      "metadata": {
        "id": "o8aoswHtGeYh"
      },
      "execution_count": null,
      "outputs": []
    },
    {
      "cell_type": "markdown",
      "source": [
        "Kết luận từ biểu đồ:\n",
        "\n",
        "    Tracking_Quality khác biệt đáng kể giữa các nhà nghiên cứu, với Researcher_A và Researcher_D đạt chất lượng cao, trong khi Researcher_E có chất lượng thấp nhất.\n",
        "    Sự không đồng đều này có thể do kỹ thuật gắn thẻ, loại thiết bị (Tag_Type), hoặc điều kiện triển khai (Signal_Strength_dB).\n",
        "\n",
        "Liên hệ với phân tích trước:\n",
        "\n",
        "    Kết quả này bổ sung bằng chứng rằng Tagged_By ảnh hưởng đến chất lượng dữ liệu, tương tự như phân tích Observation_Quality.\n",
        "    Signal_Strength_dB (từ biểu đồ trước) cũng có thể giải thích sự khác biệt: Researcher_E có thể có tín hiệu yếu hơn, dẫn đến Tracking_Quality = Fair cao.\n",
        "\n",
        "Đề xuất:\n",
        "\n",
        "    Chuẩn hóa kỹ thuật gắn thẻ, đặc biệt cho Researcher_E, bằng cách học hỏi từ Researcher_A.\n",
        "    Đảm bảo sử dụng thiết bị GPS và cải thiện tín hiệu (Signal_Strength_dB > -60 dB) cho tất cả nhà nghiên cứu.\n",
        "    Tích hợp dữ liệu từ Researcher_A và Researcher_D vào BirdCast Migration Dashboard để đảm bảo chất lượng cao.\n",
        "    Thu thập dữ liệu thực tế để xác nhận kết quả, như ghi chú trước đã đề cập."
      ],
      "metadata": {
        "id": "LQDvALXEy84J"
      }
    },
    {
      "cell_type": "code",
      "source": [],
      "metadata": {
        "id": "T2RLl7TaGhga"
      },
      "execution_count": null,
      "outputs": []
    }
  ]
}